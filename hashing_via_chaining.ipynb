{
  "cells": [
    {
      "cell_type": "code",
      "execution_count": 26,
      "metadata": {
        "id": "5RCi9eWfv3KK"
      },
      "outputs": [],
      "source": [
        "class Node:\n",
        "\n",
        "  def __init__(self,key,value):\n",
        "    self.key = key\n",
        "    self.value = value\n",
        "    self.next = None"
      ]
    },
    {
      "cell_type": "code",
      "execution_count": 27,
      "metadata": {
        "id": "mQ4C69JewaWJ"
      },
      "outputs": [],
      "source": [
        "class LL:\n",
        "\n",
        "  def __init__(self):\n",
        "    self.head = None\n",
        "\n",
        "  def add(self, key, value):\n",
        "\n",
        "    new_node = Node(key, value)\n",
        "\n",
        "    if self.head == None:\n",
        "      self.head = new_node\n",
        "    else:\n",
        "\n",
        "      temp = self.head\n",
        "\n",
        "      while temp.next != None:\n",
        "        temp = temp.next\n",
        "\n",
        "      temp.next = new_node\n",
        "\n",
        "  def delete_head(self):\n",
        "\n",
        "    if self.head == None:\n",
        "      return \"Empty\"\n",
        "    else:\n",
        "      self.head = self.head.next\n",
        "\n",
        "  def remove(self, key):\n",
        "    if self.head.key == key:\n",
        "      self.delete_head()\n",
        "      return \n",
        "\n",
        "    if self.head == None:\n",
        "      return \"Empty\"\n",
        "    else:\n",
        "\n",
        "      temp = self.head\n",
        "\n",
        "      while temp.next != None:\n",
        "        if temp.next.key == key:\n",
        "          break\n",
        "        temp = temp.next\n",
        "\n",
        "      if temp.next == None:\n",
        "        return \"Not Found\"\n",
        "      else:\n",
        "        temp.next = temp.next.next\n",
        "        \n",
        "\n",
        "  def traverse(self):\n",
        "\n",
        "    temp = self.head\n",
        "\n",
        "    while temp != None:\n",
        "\n",
        "      print(temp.key,\"-->\",temp.value,\" \", end=\" \")\n",
        "      temp = temp.next\n",
        "\n",
        "  def size(self):\n",
        "\n",
        "    temp = self.head\n",
        "    counter = 0\n",
        "\n",
        "    while temp != None:\n",
        "\n",
        "      counter += 1\n",
        "      temp = temp.next\n",
        "\n",
        "    return counter\n",
        "\n",
        "  def search(self,key):\n",
        "\n",
        "    temp = self.head\n",
        "    pos = 0\n",
        "\n",
        "    while temp != None:\n",
        "\n",
        "      if temp.key == key:\n",
        "        return pos\n",
        "\n",
        "      temp = temp.next\n",
        "      pos += 1\n",
        "\n",
        "    return -1\n",
        "\n",
        "  def get_node_at_index(self,index):\n",
        "\n",
        "    temp = self.head\n",
        "    counter = 0\n",
        "\n",
        "    while temp is not None:\n",
        "\n",
        "      if counter == index:\n",
        "        return temp\n",
        "      temp = temp.next\n",
        "      counter+=1\n"
      ]
    },
    {
      "cell_type": "code",
      "execution_count": 28,
      "metadata": {
        "id": "KJq7iUJox5qM"
      },
      "outputs": [],
      "source": [
        "class Dictionary:\n",
        "\n",
        "  def __init__(self, capacity):\n",
        "\n",
        "    self.capacity = capacity\n",
        "    self.size = 0\n",
        "    # create array of LL\n",
        "    self.buckets = self.make_array(self.capacity)\n",
        "\n",
        "  def make_array(self,capacity):\n",
        "\n",
        "    L = []\n",
        "    for i in range(capacity):\n",
        "      L.append(LL())\n",
        "    return L\n",
        "\n",
        "  def __setitem__(self,key,value):\n",
        "    self.put(key,value)\n",
        "\n",
        "  def __getitem__(self,key):\n",
        "    return self.get(key)\n",
        "\n",
        "  def __delitem__(self,key):\n",
        "\n",
        "    bucket_index = self.hash_function(key)\n",
        "\n",
        "    self.buckets[bucket_index].remove(key)\n",
        "\n",
        "  def __str__(self):\n",
        "\n",
        "    for i in self.buckets:\n",
        "      i.traverse()\n",
        "\n",
        "    return \"\"\n",
        "\n",
        "  def __len__(self):\n",
        "    return self.size\n",
        "\n",
        "\n",
        "  def get(self,key):\n",
        "\n",
        "    bucket_index = self.hash_function(key)\n",
        "\n",
        "    res = self.buckets[bucket_index].search(key)\n",
        "\n",
        "    if res == -1:\n",
        "      return \"Not Present\"\n",
        "    else:\n",
        "      node = self.buckets[bucket_index].get_node_at_index(res)\n",
        "      return node.value\n",
        "\n",
        "\n",
        "  def put(self, key, value):\n",
        "\n",
        "    bucket_index = self.hash_function(key)\n",
        "\n",
        "    node_index = self.get_node_index(bucket_index, key)\n",
        "\n",
        "    if node_index == -1:\n",
        "      # insert\n",
        "      self.buckets[bucket_index].add(key,value)\n",
        "      self.size+=1\n",
        "\n",
        "      load_factor = self.size/self.capacity\n",
        "      print(load_factor)\n",
        "\n",
        "      if (load_factor >= 2):\n",
        "        self.rehash()\n",
        "    else:\n",
        "      # update\n",
        "      node = self.buckets[bucket_index].get_node_at_index(node_index)\n",
        "      node.value = value\n",
        "\n",
        "  def rehash(self):\n",
        "    self.capacity = self.capacity * 2\n",
        "    old_buckets = self.buckets\n",
        "    self.size = 0\n",
        "    self.buckets = self.make_array(self.capacity)\n",
        "\n",
        "    for i in old_buckets:\n",
        "      for j in range(i.size()):\n",
        "        node = i.get_node_at_index(j)\n",
        "        key_item = node.key\n",
        "        value_item = node.value\n",
        "        self.put(key_item,value_item)\n",
        "\n",
        "\n",
        "\n",
        "  def get_node_index(self,bucket_index, key):\n",
        "\n",
        "    node_index = self.buckets[bucket_index].search(key)\n",
        "\n",
        "    return node_index\n",
        "\n",
        "  def hash_function(self,key):\n",
        "    return abs(hash(key)) % self.capacity\n",
        "\n"
      ]
    },
    {
      "cell_type": "code",
      "execution_count": 29,
      "metadata": {
        "id": "f-1NfMh1voU2"
      },
      "outputs": [],
      "source": [
        "# get items\n",
        "# traverse\n",
        "# delete"
      ]
    },
    {
      "cell_type": "code",
      "execution_count": 30,
      "metadata": {
        "id": "1g-0TdPgylif"
      },
      "outputs": [],
      "source": [
        "L = []\n",
        "\n",
        "for i in range(3):\n",
        "  L.append(LL())"
      ]
    },
    {
      "cell_type": "code",
      "execution_count": 31,
      "metadata": {
        "colab": {
          "base_uri": "https://localhost:8080/"
        },
        "id": "gnel5azbynrp",
        "outputId": "7d0d5b02-187b-4daa-b2b4-8f856741cff9"
      },
      "outputs": [
        {
          "data": {
            "text/plain": [
              "[<__main__.LL at 0x1fd76bc7590>,\n",
              " <__main__.LL at 0x1fd7efcc590>,\n",
              " <__main__.LL at 0x1fd785b9390>]"
            ]
          },
          "execution_count": 31,
          "metadata": {},
          "output_type": "execute_result"
        }
      ],
      "source": [
        "L"
      ]
    },
    {
      "cell_type": "code",
      "execution_count": 32,
      "metadata": {
        "colab": {
          "base_uri": "https://localhost:8080/"
        },
        "id": "eiHqIb3Ayqcc",
        "outputId": "e02a1662-632e-4112-c062-4cfae494a026"
      },
      "outputs": [
        {
          "data": {
            "text/plain": [
              "__main__.LL"
            ]
          },
          "execution_count": 32,
          "metadata": {},
          "output_type": "execute_result"
        }
      ],
      "source": [
        "type(L[0])"
      ]
    },
    {
      "cell_type": "code",
      "execution_count": 33,
      "metadata": {
        "id": "4ErwNKDOyxC_"
      },
      "outputs": [],
      "source": [
        "L = [LL()] * 3"
      ]
    },
    {
      "cell_type": "code",
      "execution_count": 34,
      "metadata": {
        "colab": {
          "base_uri": "https://localhost:8080/"
        },
        "id": "GNyxjx1GzImN",
        "outputId": "4cffafa6-96ab-4832-9cc5-a96c97c351d1"
      },
      "outputs": [
        {
          "data": {
            "text/plain": [
              "[<__main__.LL at 0x1fd7f349490>,\n",
              " <__main__.LL at 0x1fd7f349490>,\n",
              " <__main__.LL at 0x1fd7f349490>]"
            ]
          },
          "execution_count": 34,
          "metadata": {},
          "output_type": "execute_result"
        }
      ],
      "source": [
        "L"
      ]
    },
    {
      "cell_type": "code",
      "execution_count": 35,
      "metadata": {
        "id": "ebSyUUwOzJNL"
      },
      "outputs": [],
      "source": [
        "L = LL()"
      ]
    },
    {
      "cell_type": "code",
      "execution_count": 36,
      "metadata": {
        "id": "8DIaEzDz2Qkm"
      },
      "outputs": [],
      "source": [
        "L.add(2,3)"
      ]
    },
    {
      "cell_type": "code",
      "execution_count": 37,
      "metadata": {
        "id": "S2tQqsow2SDP"
      },
      "outputs": [],
      "source": [
        "L.add(4,5)"
      ]
    },
    {
      "cell_type": "code",
      "execution_count": 38,
      "metadata": {
        "id": "xburqnbf2TIL"
      },
      "outputs": [],
      "source": [
        "L.add(6,7)"
      ]
    },
    {
      "cell_type": "code",
      "execution_count": 39,
      "metadata": {
        "colab": {
          "base_uri": "https://localhost:8080/"
        },
        "id": "v4M2yvXb2UV5",
        "outputId": "ceb8af33-4642-43d9-f384-71b00c513362"
      },
      "outputs": [
        {
          "name": "stdout",
          "output_type": "stream",
          "text": [
            "2 --> 3   4 --> 5   6 --> 7   "
          ]
        }
      ],
      "source": [
        "L.traverse()"
      ]
    },
    {
      "cell_type": "code",
      "execution_count": 40,
      "metadata": {
        "colab": {
          "base_uri": "https://localhost:8080/"
        },
        "id": "nGsk8KSb2Wni",
        "outputId": "101cb8cc-836f-464b-b7c8-cc3041fe832a"
      },
      "outputs": [
        {
          "data": {
            "text/plain": [
              "2"
            ]
          },
          "execution_count": 40,
          "metadata": {},
          "output_type": "execute_result"
        }
      ],
      "source": [
        "L.get_node_at_index(0).key"
      ]
    },
    {
      "cell_type": "code",
      "execution_count": 41,
      "metadata": {
        "id": "S7_1IJsO2dOf"
      },
      "outputs": [],
      "source": [
        "D1 = Dictionary(3)"
      ]
    },
    {
      "cell_type": "code",
      "execution_count": 42,
      "metadata": {
        "colab": {
          "base_uri": "https://localhost:8080/"
        },
        "id": "Dfyo_T733ydy",
        "outputId": "481df50d-5ca4-4b36-d4e6-ced30b1f4f12"
      },
      "outputs": [
        {
          "name": "stdout",
          "output_type": "stream",
          "text": [
            "0.3333333333333333\n"
          ]
        }
      ],
      "source": [
        "D1.put(\"c\",20000)"
      ]
    },
    {
      "cell_type": "code",
      "execution_count": 43,
      "metadata": {
        "colab": {
          "base_uri": "https://localhost:8080/",
          "height": 35
        },
        "id": "nsbZt6pp3-Fc",
        "outputId": "1bd9cd08-44fd-457c-9075-13d5d71fb15e"
      },
      "outputs": [
        {
          "data": {
            "text/plain": [
              "'Not Present'"
            ]
          },
          "execution_count": 43,
          "metadata": {},
          "output_type": "execute_result"
        }
      ],
      "source": [
        "D1[\"java\"]"
      ]
    },
    {
      "cell_type": "code",
      "execution_count": null,
      "metadata": {
        "id": "-83pOiph4gZJ"
      },
      "outputs": [],
      "source": []
    },
    {
      "cell_type": "code",
      "execution_count": 44,
      "metadata": {
        "colab": {
          "base_uri": "https://localhost:8080/"
        },
        "id": "gDBNpIki4k-U",
        "outputId": "10f24aae-2945-416f-bee1-6869a3154d51"
      },
      "outputs": [
        {
          "name": "stdout",
          "output_type": "stream",
          "text": [
            "0.6666666666666666\n"
          ]
        }
      ],
      "source": [
        "D1.put(\"Java\",56)"
      ]
    },
    {
      "cell_type": "code",
      "execution_count": 45,
      "metadata": {},
      "outputs": [
        {
          "ename": "AttributeError",
          "evalue": "'NoneType' object has no attribute 'key'",
          "output_type": "error",
          "traceback": [
            "\u001b[1;31m---------------------------------------------------------------------------\u001b[0m",
            "\u001b[1;31mAttributeError\u001b[0m                            Traceback (most recent call last)",
            "\u001b[1;32md:\\jupyter notebooks\\dsa-using-python\\hashing_via_chaining.ipynb Cell 21\u001b[0m line \u001b[0;36m1\n\u001b[1;32m----> <a href='vscode-notebook-cell:/d%3A/jupyter%20notebooks/dsa-using-python/hashing_via_chaining.ipynb#X35sZmlsZQ%3D%3D?line=0'>1</a>\u001b[0m \u001b[39mdel\u001b[39;00m D1[\u001b[39m\"\u001b[39;49m\u001b[39mjava\u001b[39;49m\u001b[39m\"\u001b[39;49m]\n",
            "\u001b[1;32md:\\jupyter notebooks\\dsa-using-python\\hashing_via_chaining.ipynb Cell 21\u001b[0m line \u001b[0;36m2\n\u001b[0;32m     <a href='vscode-notebook-cell:/d%3A/jupyter%20notebooks/dsa-using-python/hashing_via_chaining.ipynb#X35sZmlsZQ%3D%3D?line=22'>23</a>\u001b[0m \u001b[39mdef\u001b[39;00m \u001b[39m__delitem__\u001b[39m(\u001b[39mself\u001b[39m,key):\n\u001b[0;32m     <a href='vscode-notebook-cell:/d%3A/jupyter%20notebooks/dsa-using-python/hashing_via_chaining.ipynb#X35sZmlsZQ%3D%3D?line=24'>25</a>\u001b[0m   bucket_index \u001b[39m=\u001b[39m \u001b[39mself\u001b[39m\u001b[39m.\u001b[39mhash_function(key)\n\u001b[1;32m---> <a href='vscode-notebook-cell:/d%3A/jupyter%20notebooks/dsa-using-python/hashing_via_chaining.ipynb#X35sZmlsZQ%3D%3D?line=26'>27</a>\u001b[0m   \u001b[39mself\u001b[39;49m\u001b[39m.\u001b[39;49mbuckets[bucket_index]\u001b[39m.\u001b[39;49mremove(key)\n",
            "\u001b[1;32md:\\jupyter notebooks\\dsa-using-python\\hashing_via_chaining.ipynb Cell 21\u001b[0m line \u001b[0;36m2\n\u001b[0;32m     <a href='vscode-notebook-cell:/d%3A/jupyter%20notebooks/dsa-using-python/hashing_via_chaining.ipynb#X35sZmlsZQ%3D%3D?line=27'>28</a>\u001b[0m \u001b[39mdef\u001b[39;00m \u001b[39mremove\u001b[39m(\u001b[39mself\u001b[39m, key):\n\u001b[1;32m---> <a href='vscode-notebook-cell:/d%3A/jupyter%20notebooks/dsa-using-python/hashing_via_chaining.ipynb#X35sZmlsZQ%3D%3D?line=28'>29</a>\u001b[0m   \u001b[39mif\u001b[39;00m \u001b[39mself\u001b[39;49m\u001b[39m.\u001b[39;49mhead\u001b[39m.\u001b[39;49mkey \u001b[39m==\u001b[39m key:\n\u001b[0;32m     <a href='vscode-notebook-cell:/d%3A/jupyter%20notebooks/dsa-using-python/hashing_via_chaining.ipynb#X35sZmlsZQ%3D%3D?line=29'>30</a>\u001b[0m     \u001b[39mself\u001b[39m\u001b[39m.\u001b[39mdelete_head()\n\u001b[0;32m     <a href='vscode-notebook-cell:/d%3A/jupyter%20notebooks/dsa-using-python/hashing_via_chaining.ipynb#X35sZmlsZQ%3D%3D?line=30'>31</a>\u001b[0m     \u001b[39mreturn\u001b[39;00m \n",
            "\u001b[1;31mAttributeError\u001b[0m: 'NoneType' object has no attribute 'key'"
          ]
        }
      ],
      "source": [
        "del D1[\"java\"]"
      ]
    },
    {
      "cell_type": "code",
      "execution_count": null,
      "metadata": {
        "id": "4t6613Mq4tsG"
      },
      "outputs": [],
      "source": [
        "D1 = Dictionary(4)"
      ]
    },
    {
      "cell_type": "code",
      "execution_count": null,
      "metadata": {
        "colab": {
          "base_uri": "https://localhost:8080/"
        },
        "id": "-_px_9XJ7M4N",
        "outputId": "9c962f2b-e743-4208-9bce-9cae866deb98"
      },
      "outputs": [
        {
          "name": "stdout",
          "output_type": "stream",
          "text": [
            "0.25\n"
          ]
        }
      ],
      "source": [
        "D1.put(\"php\",34)"
      ]
    },
    {
      "cell_type": "code",
      "execution_count": null,
      "metadata": {
        "colab": {
          "base_uri": "https://localhost:8080/"
        },
        "id": "giRQ40pm7Y2f",
        "outputId": "1fa50109-4d19-4b33-8a6a-5b9c082f4d2b"
      },
      "outputs": [
        {
          "name": "stdout",
          "output_type": "stream",
          "text": [
            "0.5\n"
          ]
        }
      ],
      "source": [
        "D1[\"matlab\"] = 45"
      ]
    },
    {
      "cell_type": "code",
      "execution_count": null,
      "metadata": {
        "colab": {
          "base_uri": "https://localhost:8080/"
        },
        "id": "4B8OPQrgxwMy",
        "outputId": "0e82f476-d62c-4d4a-a2d8-33900140cbd6"
      },
      "outputs": [
        {
          "name": "stdout",
          "output_type": "stream",
          "text": [
            "php --> 34   matlab --> 45   \n"
          ]
        }
      ],
      "source": [
        "print(D1)"
      ]
    },
    {
      "cell_type": "code",
      "execution_count": null,
      "metadata": {
        "colab": {
          "base_uri": "https://localhost:8080/"
        },
        "id": "epVCxmJpxypX",
        "outputId": "86edeb6b-baf7-456d-947c-8646cd0e6738"
      },
      "outputs": [
        {
          "data": {
            "text/plain": [
              "2"
            ]
          },
          "execution_count": 25,
          "metadata": {},
          "output_type": "execute_result"
        }
      ],
      "source": [
        "len(D1)"
      ]
    },
    {
      "cell_type": "code",
      "execution_count": null,
      "metadata": {
        "id": "k9IVgAlX0XFo"
      },
      "outputs": [],
      "source": []
    }
  ],
  "metadata": {
    "colab": {
      "provenance": []
    },
    "kernelspec": {
      "display_name": "Python 3",
      "name": "python3"
    },
    "language_info": {
      "codemirror_mode": {
        "name": "ipython",
        "version": 3
      },
      "file_extension": ".py",
      "mimetype": "text/x-python",
      "name": "python",
      "nbconvert_exporter": "python",
      "pygments_lexer": "ipython3",
      "version": "3.11.4"
    }
  },
  "nbformat": 4,
  "nbformat_minor": 0
}
