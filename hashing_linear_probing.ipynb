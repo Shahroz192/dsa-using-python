{
  "cells": [
    {
      "cell_type": "code",
      "execution_count": 1,
      "metadata": {
        "id": "wPH5PvaLmjQH"
      },
      "outputs": [],
      "source": [
        "class Dictionary:\n",
        "\n",
        "  def __init__(self, size):\n",
        "    self.size = size\n",
        "    self.slots = [None] * self.size\n",
        "    self.data = [None] * self.size\n",
        "\n",
        "  def put(self, key, value):\n",
        "    hash_value = self.hash_function(key)\n",
        "\n",
        "    if self.slots[hash_value] == None:\n",
        "      self.slots[hash_value] = key\n",
        "      self.data[hash_value] = value\n",
        "\n",
        "    else:\n",
        "\n",
        "      if self.slots[hash_value] == key:\n",
        "        self.data[hash_value] = value\n",
        "      else:\n",
        "        new_hash_value = self.rehash(hash_value)\n",
        "\n",
        "        while self.slots[new_hash_value] != None and self.slots[new_hash_value] != key:\n",
        "          new_hash_value = self.rehash(new_hash_value)\n",
        "\n",
        "        if self.slots[new_hash_value] == None:\n",
        "          self.slots[new_hash_value] = key\n",
        "          self.data[new_hash_value] = value\n",
        "        else:\n",
        "          self.data[new_hash_value] = value\n",
        "\n",
        "  def get(self, key):\n",
        "    start_position = self.hash_function(key)\n",
        "    current_position = start_position\n",
        "\n",
        "    while self.slots[current_position] != None:\n",
        "\n",
        "      if self.slots[current_position] == key:\n",
        "        return self.data[current_position]\n",
        "      \n",
        "      current_position = self.rehash(current_position)\n",
        "\n",
        "      if current_position == start_position:\n",
        "        return \"Not Found\"\n",
        "\n",
        "    return \"None wala Not Found\"\n",
        "\n",
        "  def __str__(self):\n",
        "\n",
        "    for i in range(len(self.slots)):\n",
        "      if self.slots[i] != None:\n",
        "        print(self.slots[i],\":\",self.data[i],end=' ')\n",
        "\n",
        "    return \"\"\n",
        "\n",
        "  def __getitem__(self,key):\n",
        "    return self.get(key)\n",
        "\n",
        "  def __setitem__(self,key,value):\n",
        "    self.put(key,value)\n",
        "  \n",
        "  def rehash(self, old_hash):\n",
        "    return (old_hash + 1) % self.size\n",
        "\n",
        "\n",
        "  def hash_function(self, key):\n",
        "\n",
        "    return abs(hash(key)) % self.size\n"
      ]
    },
    {
      "cell_type": "code",
      "execution_count": 2,
      "metadata": {
        "colab": {
          "base_uri": "https://localhost:8080/"
        },
        "id": "pRrZUGLKng3b",
        "outputId": "995d5090-d3b6-488c-8ef0-2cabe4a29873"
      },
      "outputs": [
        {
          "data": {
            "text/plain": [
              "123"
            ]
          },
          "execution_count": 2,
          "metadata": {},
          "output_type": "execute_result"
        }
      ],
      "source": [
        "hash(123)"
      ]
    },
    {
      "cell_type": "code",
      "execution_count": 3,
      "metadata": {
        "colab": {
          "base_uri": "https://localhost:8080/"
        },
        "id": "5mieHHXgnidl",
        "outputId": "a8f54ce1-79e5-4cc1-e20c-4e1f556898ba"
      },
      "outputs": [
        {
          "data": {
            "text/plain": [
              "4"
            ]
          },
          "execution_count": 3,
          "metadata": {},
          "output_type": "execute_result"
        }
      ],
      "source": [
        "abs(hash(\"python\")) % 5"
      ]
    },
    {
      "cell_type": "code",
      "execution_count": 4,
      "metadata": {
        "colab": {
          "base_uri": "https://localhost:8080/"
        },
        "id": "Ccm0C1oFnqlJ",
        "outputId": "88bc968b-e660-404f-a838-57ba465d78f5"
      },
      "outputs": [
        {
          "data": {
            "text/plain": [
              "1152921504606846977"
            ]
          },
          "execution_count": 4,
          "metadata": {},
          "output_type": "execute_result"
        }
      ],
      "source": [
        "hash(1.5)"
      ]
    },
    {
      "cell_type": "code",
      "execution_count": 5,
      "metadata": {
        "colab": {
          "base_uri": "https://localhost:8080/"
        },
        "id": "UeEPpj7gnw9x",
        "outputId": "aa1608a1-747e-4646-def7-c1a0f43de2b1"
      },
      "outputs": [
        {
          "data": {
            "text/plain": [
              "529344067295497451"
            ]
          },
          "execution_count": 5,
          "metadata": {},
          "output_type": "execute_result"
        }
      ],
      "source": [
        "hash((1,2,3))"
      ]
    },
    {
      "cell_type": "code",
      "execution_count": 6,
      "metadata": {
        "id": "Tsahuc9dn1RW"
      },
      "outputs": [],
      "source": [
        "D1 = Dictionary(3)"
      ]
    },
    {
      "cell_type": "code",
      "execution_count": 7,
      "metadata": {
        "colab": {
          "base_uri": "https://localhost:8080/"
        },
        "id": "H-IBVGlMq6CY",
        "outputId": "8351a58e-4a49-41da-8ae4-22f6a5eedc5b"
      },
      "outputs": [
        {
          "name": "stdout",
          "output_type": "stream",
          "text": [
            "[None, None, None]\n",
            "[None, None, None]\n"
          ]
        }
      ],
      "source": [
        "print(D1.slots)\n",
        "print(D1.data)"
      ]
    },
    {
      "cell_type": "code",
      "execution_count": 8,
      "metadata": {
        "id": "5zpRV5qWq-KQ"
      },
      "outputs": [],
      "source": [
        "D1['python'] = 56"
      ]
    },
    {
      "cell_type": "code",
      "execution_count": 9,
      "metadata": {
        "id": "tJMGxuxXrBuA"
      },
      "outputs": [],
      "source": [
        "D1['c'] = 1000"
      ]
    },
    {
      "cell_type": "code",
      "execution_count": 10,
      "metadata": {
        "colab": {
          "base_uri": "https://localhost:8080/",
          "height": 35
        },
        "id": "knXP48RYr3qt",
        "outputId": "4af90b14-f8a0-4c09-9154-83a52fd37c3f"
      },
      "outputs": [
        {
          "data": {
            "text/plain": [
              "'None wala Not Found'"
            ]
          },
          "execution_count": 10,
          "metadata": {},
          "output_type": "execute_result"
        }
      ],
      "source": [
        "D1[\"dtjtr\"]"
      ]
    },
    {
      "cell_type": "code",
      "execution_count": 11,
      "metadata": {
        "colab": {
          "base_uri": "https://localhost:8080/"
        },
        "id": "KyVIC_r9r6L_",
        "outputId": "72c3d122-a3e2-4d05-e818-4dbc290af2a4"
      },
      "outputs": [
        {
          "name": "stdout",
          "output_type": "stream",
          "text": [
            "python : 56 c : 1000 \n"
          ]
        }
      ],
      "source": [
        "print(D1)"
      ]
    },
    {
      "cell_type": "code",
      "execution_count": 12,
      "metadata": {
        "colab": {
          "base_uri": "https://localhost:8080/",
          "height": 279
        },
        "id": "9m8irDJcvArW",
        "outputId": "291f042a-c013-4d9f-c1a8-f4a27a12a1cc"
      },
      "outputs": [
        {
          "ename": "TypeError",
          "evalue": "unhashable type: 'list'",
          "output_type": "error",
          "traceback": [
            "\u001b[1;31m---------------------------------------------------------------------------\u001b[0m",
            "\u001b[1;31mTypeError\u001b[0m                                 Traceback (most recent call last)",
            "\u001b[1;32md:\\jupyter notebooks\\dsa-using-python\\hashing_linear_probing.ipynb Cell 12\u001b[0m line \u001b[0;36m1\n\u001b[1;32m----> <a href='vscode-notebook-cell:/d%3A/jupyter%20notebooks/dsa-using-python/hashing_linear_probing.ipynb#X14sZmlsZQ%3D%3D?line=0'>1</a>\u001b[0m D1[[\u001b[39m1\u001b[39;49m,\u001b[39m2\u001b[39;49m,\u001b[39m3\u001b[39;49m]] \u001b[39m=\u001b[39m \u001b[39m\"\u001b[39m\u001b[39mHello\u001b[39m\u001b[39m\"\u001b[39m\n",
            "\u001b[1;32md:\\jupyter notebooks\\dsa-using-python\\hashing_linear_probing.ipynb Cell 12\u001b[0m line \u001b[0;36m5\n\u001b[0;32m     <a href='vscode-notebook-cell:/d%3A/jupyter%20notebooks/dsa-using-python/hashing_linear_probing.ipynb#X14sZmlsZQ%3D%3D?line=57'>58</a>\u001b[0m \u001b[39mdef\u001b[39;00m \u001b[39m__setitem__\u001b[39m(\u001b[39mself\u001b[39m,key,value):\n\u001b[1;32m---> <a href='vscode-notebook-cell:/d%3A/jupyter%20notebooks/dsa-using-python/hashing_linear_probing.ipynb#X14sZmlsZQ%3D%3D?line=58'>59</a>\u001b[0m   \u001b[39mself\u001b[39;49m\u001b[39m.\u001b[39;49mput(key,value)\n",
            "\u001b[1;32md:\\jupyter notebooks\\dsa-using-python\\hashing_linear_probing.ipynb Cell 12\u001b[0m line \u001b[0;36m9\n\u001b[0;32m      <a href='vscode-notebook-cell:/d%3A/jupyter%20notebooks/dsa-using-python/hashing_linear_probing.ipynb#X14sZmlsZQ%3D%3D?line=7'>8</a>\u001b[0m \u001b[39mdef\u001b[39;00m \u001b[39mput\u001b[39m(\u001b[39mself\u001b[39m, key, value):\n\u001b[1;32m----> <a href='vscode-notebook-cell:/d%3A/jupyter%20notebooks/dsa-using-python/hashing_linear_probing.ipynb#X14sZmlsZQ%3D%3D?line=8'>9</a>\u001b[0m   hash_value \u001b[39m=\u001b[39m \u001b[39mself\u001b[39;49m\u001b[39m.\u001b[39;49mhash_function(key)\n\u001b[0;32m     <a href='vscode-notebook-cell:/d%3A/jupyter%20notebooks/dsa-using-python/hashing_linear_probing.ipynb#X14sZmlsZQ%3D%3D?line=10'>11</a>\u001b[0m   \u001b[39mif\u001b[39;00m \u001b[39mself\u001b[39m\u001b[39m.\u001b[39mslots[hash_value] \u001b[39m==\u001b[39m \u001b[39mNone\u001b[39;00m:\n\u001b[0;32m     <a href='vscode-notebook-cell:/d%3A/jupyter%20notebooks/dsa-using-python/hashing_linear_probing.ipynb#X14sZmlsZQ%3D%3D?line=11'>12</a>\u001b[0m     \u001b[39mself\u001b[39m\u001b[39m.\u001b[39mslots[hash_value] \u001b[39m=\u001b[39m key\n",
            "\u001b[1;32md:\\jupyter notebooks\\dsa-using-python\\hashing_linear_probing.ipynb Cell 12\u001b[0m line \u001b[0;36m6\n\u001b[0;32m     <a href='vscode-notebook-cell:/d%3A/jupyter%20notebooks/dsa-using-python/hashing_linear_probing.ipynb#X14sZmlsZQ%3D%3D?line=64'>65</a>\u001b[0m \u001b[39mdef\u001b[39;00m \u001b[39mhash_function\u001b[39m(\u001b[39mself\u001b[39m, key):\n\u001b[1;32m---> <a href='vscode-notebook-cell:/d%3A/jupyter%20notebooks/dsa-using-python/hashing_linear_probing.ipynb#X14sZmlsZQ%3D%3D?line=66'>67</a>\u001b[0m   \u001b[39mreturn\u001b[39;00m \u001b[39mabs\u001b[39m(\u001b[39mhash\u001b[39;49m(key)) \u001b[39m%\u001b[39m \u001b[39mself\u001b[39m\u001b[39m.\u001b[39msize\n",
            "\u001b[1;31mTypeError\u001b[0m: unhashable type: 'list'"
          ]
        }
      ],
      "source": [
        "D1[[1,2,3]] = \"Hello\""
      ]
    },
    {
      "cell_type": "code",
      "execution_count": 13,
      "metadata": {
        "colab": {
          "base_uri": "https://localhost:8080/",
          "height": 167
        },
        "id": "78eTkCdrvQEO",
        "outputId": "80db0b4f-6f13-4c9f-b586-6298981db375"
      },
      "outputs": [
        {
          "ename": "TypeError",
          "evalue": "unhashable type: 'list'",
          "output_type": "error",
          "traceback": [
            "\u001b[1;31m---------------------------------------------------------------------------\u001b[0m",
            "\u001b[1;31mTypeError\u001b[0m                                 Traceback (most recent call last)",
            "\u001b[1;32md:\\jupyter notebooks\\dsa-using-python\\hashing_linear_probing.ipynb Cell 13\u001b[0m line \u001b[0;36m1\n\u001b[1;32m----> <a href='vscode-notebook-cell:/d%3A/jupyter%20notebooks/dsa-using-python/hashing_linear_probing.ipynb#X15sZmlsZQ%3D%3D?line=0'>1</a>\u001b[0m D2 \u001b[39m=\u001b[39m {[\u001b[39m1\u001b[39m,\u001b[39m2\u001b[39m,\u001b[39m3\u001b[39m]:\u001b[39m\"\u001b[39m\u001b[39mHello\u001b[39m\u001b[39m\"\u001b[39m}\n",
            "\u001b[1;31mTypeError\u001b[0m: unhashable type: 'list'"
          ]
        }
      ],
      "source": [
        "D2 = {[1,2,3]:\"Hello\"}"
      ]
    },
    {
      "cell_type": "code",
      "execution_count": null,
      "metadata": {
        "id": "whz_C2lRvWx4"
      },
      "outputs": [],
      "source": []
    }
  ],
  "metadata": {
    "colab": {
      "provenance": []
    },
    "kernelspec": {
      "display_name": "Python 3",
      "name": "python3"
    },
    "language_info": {
      "codemirror_mode": {
        "name": "ipython",
        "version": 3
      },
      "file_extension": ".py",
      "mimetype": "text/x-python",
      "name": "python",
      "nbconvert_exporter": "python",
      "pygments_lexer": "ipython3",
      "version": "3.11.4"
    }
  },
  "nbformat": 4,
  "nbformat_minor": 0
}
