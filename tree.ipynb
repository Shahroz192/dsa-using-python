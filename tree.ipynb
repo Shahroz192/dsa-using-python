{
 "cells": [
  {
   "cell_type": "code",
   "execution_count": 12,
   "metadata": {},
   "outputs": [],
   "source": [
    "class TreeNode:\n",
    "    def __init__(self, value):\n",
    "        self.value = value\n",
    "        self.left = None\n",
    "        self.right = None"
   ]
  },
  {
   "cell_type": "code",
   "execution_count": 13,
   "metadata": {},
   "outputs": [],
   "source": [
    "class BinaryTree:\n",
    "    def __init__(self, root_value):\n",
    "        self.root = TreeNode(root_value)\n",
    "\n",
    "    def insert(self, value):\n",
    "        \"\"\"\n",
    "        Insert a new value into the binary tree.\n",
    "        \"\"\"\n",
    "        self._insert_recursive(self.root, value)\n",
    "\n",
    "    def _insert_recursive(self, current_node, value: int):\n",
    "        if value < current_node.value:\n",
    "            if current_node.left is None:\n",
    "                current_node.left = TreeNode(value)\n",
    "            else:\n",
    "                self._insert_recursive(current_node.left, value)\n",
    "        else:\n",
    "            if current_node.right is None:\n",
    "                current_node.right = TreeNode(value)\n",
    "            else:\n",
    "                self._insert_recursive(current_node.right, value)\n",
    "\n",
    "    def search(self, value: int) -> bool:\n",
    "        \"\"\"\n",
    "        Search for a value in the binary tree.\n",
    "        \"\"\"\n",
    "        return self._search_recursive(self.root, value)\n",
    "\n",
    "    def _search_recursive(self, current_node, value: int) -> bool:\n",
    "        if current_node is None:\n",
    "            return False\n",
    "        if current_node.value == value:\n",
    "            return True\n",
    "        if value < current_node.value:\n",
    "            return self._search_recursive(current_node.left, value)\n",
    "        else:\n",
    "            return self._search_recursive(current_node.right, value)\n",
    "        \n",
    "\n",
    "    def delete(self, value: int):\n",
    "        \"\"\"\n",
    "        Delete a value from the binary tree.\n",
    "        \"\"\"\n",
    "        self.root = self._delete_recursive(self.root, value)\n",
    "    def _delete_recursive(self, current_node, value: int):\n",
    "        if current_node is None:\n",
    "            return current_node\n",
    "\n",
    "        if value < current_node.value:\n",
    "            current_node.left = self._delete_recursive(current_node.left, value)\n",
    "        elif value > current_node.value:\n",
    "            current_node.right = self._delete_recursive(current_node.right, value)\n",
    "        else:\n",
    "            # Node with the value to be deleted found\n",
    "            if current_node.left is None:\n",
    "                return current_node.right\n",
    "            elif current_node.right is None:\n",
    "                return current_node.left\n",
    "\n",
    "            # Node has two children; find the in-order successor\n",
    "            current_node.value = self._find_min_value(current_node.right)\n",
    "            current_node.right = self._delete_recursive(current_node.right, current_node.value)\n",
    "\n",
    "        return current_node\n",
    "\n",
    "    def _find_min_value(self, node: TreeNode) -> int:\n",
    "        while node.left is not None:\n",
    "            node = node.left\n",
    "        return node.value\n",
    "\n",
    "   "
   ]
  },
  {
   "cell_type": "code",
   "execution_count": 14,
   "metadata": {},
   "outputs": [
    {
     "name": "stdout",
     "output_type": "stream",
     "text": [
      "True\n",
      "True\n",
      "False\n"
     ]
    }
   ],
   "source": [
    "tree = BinaryTree(10)\n",
    "tree.insert(5)\n",
    "tree.insert(15)\n",
    "tree.insert(3)\n",
    "tree.insert(7)\n",
    "tree.insert(8)\n",
    "tree.delete(5)\n",
    "\n",
    "print(tree.search(7))\n",
    "print(tree.search(8))\n",
    "print(tree.search(5))"
   ]
  },
  {
   "cell_type": "code",
   "execution_count": null,
   "metadata": {},
   "outputs": [],
   "source": []
  }
 ],
 "metadata": {
  "kernelspec": {
   "display_name": "Python 3",
   "language": "python",
   "name": "python3"
  },
  "language_info": {
   "codemirror_mode": {
    "name": "ipython",
    "version": 3
   },
   "file_extension": ".py",
   "mimetype": "text/x-python",
   "name": "python",
   "nbconvert_exporter": "python",
   "pygments_lexer": "ipython3",
   "version": "3.11.4"
  },
  "orig_nbformat": 4
 },
 "nbformat": 4,
 "nbformat_minor": 2
}
